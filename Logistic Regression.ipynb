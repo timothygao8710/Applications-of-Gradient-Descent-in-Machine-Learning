{
 "cells": [
  {
   "cell_type": "markdown",
   "id": "bc54428c",
   "metadata": {},
   "source": [
    "# Logistic Regression & Gradient Descent\n",
    "### Timothy Gao\n",
    "\n",
    "### References\n",
    "\n",
    "- Most materials are derived from here: https://web.stanford.edu/~jurafsky/slp3/5.pdf\n"
   ]
  },
  {
   "cell_type": "code",
   "execution_count": 294,
   "id": "44975011",
   "metadata": {},
   "outputs": [],
   "source": [
    "#error function: calculuate cross entropy\n",
    "#mean squared error is used for linear regression\n",
    "\n",
    "#weights: relative importances of features\n",
    "#bais: \"shift\"/location of the activation function\n",
    "#activiation function is sigmoid\n",
    "\n",
    "#numpy for fast mathimatical operations, like dot product\n",
    "import numpy as np\n",
    "\n",
    "#sklearn for breast cancer dataset, evaluation metric, and confusion matrix\n",
    "from sklearn.datasets import load_breast_cancer\n",
    "from sklearn.model_selection import train_test_split\n",
    "from sklearn.metrics import confusion_matrix, accuracy_score, plot_confusion_matrix\n",
    "\n",
    "#pandas for handlin breast cancer dataset as a DataFrame\n",
    "import pandas as pd\n",
    "\n",
    "#seaborn and matplotlib for graphing\n",
    "import seaborn as sn\n",
    "import matplotlib.pyplot as plt"
   ]
  },
  {
   "cell_type": "code",
   "execution_count": 295,
   "id": "82a89bdb",
   "metadata": {},
   "outputs": [],
   "source": [
    "#learning rate for gradient descent\n",
    "#explain why you needa hyperparameter tune this\n",
    "LR = 0.0015\n",
    "\n",
    "#number of random starting points to take\n",
    "n_iters = 100\n",
    "\n",
    "#number of steps to take in GD\n",
    "n_steps = 1000\n",
    "\n",
    "#feature inputs -> dotted weights, + bias -> y = sigmoid(x) -> find_loss(y)\n",
    "\n",
    "#we can write in terms of wegiths and biases (substitute into the find loss function)\n",
    "#feature inputs -> dotted weights, + bias -> y = sigmoid(x) -> find_loss(y) -> \n",
    "\n",
    "weights, biases = 0, 0\n",
    "\n",
    "test = 0"
   ]
  },
  {
   "cell_type": "code",
   "execution_count": 296,
   "id": "8b4ffdd4",
   "metadata": {},
   "outputs": [],
   "source": [
    "#Tanh, ReLU (less computation time)\n",
    "#Why choose sigmoid?\n",
    "\n",
    "#Activation function: \n",
    "def sigmoid(x):\n",
    "    \"\"\"\n",
    "    Computes sigmoid function to calculate probability based on single-value output of logistic regression\n",
    "    and predictions. \n",
    "    Input: Computed prediction value\n",
    "    Returns: scalar probability between (0, 1)\n",
    "    \"\"\"\n",
    "    return 1.0/(1.0 + np.exp(-x))\n",
    "\n",
    "def cross_entropy(predictions, targets, epsilon = 1e-14):\n",
    "    \"\"\"\n",
    "    Computes cross entropy between predicted probabilities and actual 0/1 classifications. \n",
    "    Input: predictions vector of predicted classes' probabilities\n",
    "           targets vector of actual 0/1 classes\n",
    "    Returns: scalar representing loss\n",
    "    \"\"\"\n",
    "    n = predictions.shape[0]\n",
    "    return -(1/n) * np.sum(targets*np.log(predictions + epsilon) + (1-targets)*np.log(1 - predictions + epsilon))\n",
    "\n",
    "#E'(weights, biases)\n",
    "#Other activation function and their derivatives given here: https://towardsdatascience.com/activation-functions-neural-networks-1cbd9f8d91d6\n",
    "def calc_dir(x, bias, predicted, actual):\n",
    "    \"\"\"\n",
    "    Computes cross entropy between targets (encoded as one-hot vectors)\n",
    "    and predictions. \n",
    "    Input: weights = coefficients for features\n",
    "           bias = single-value added to prediction output     \n",
    "           predicted = predicted 0/1 classes for classification output\n",
    "           actual = actual 0/1 classes for classification output\n",
    "    Returns: tuple of 2 elements\n",
    "             gradient descent vector <dw, db> = vector of greatest descent for weights and biases, respectively\n",
    "    \"\"\"\n",
    "    N = len(weights)\n",
    "\n",
    "    dW = (1/N) * 2 * np.dot(x.T, predicted - actual)\n",
    "    dB = (1/N) * 2 * np.sum(predicted - actual)\n",
    "\n",
    "    return [dW, dB]"
   ]
  },
  {
   "cell_type": "code",
   "execution_count": 297,
   "id": "fad57fe2",
   "metadata": {},
   "outputs": [],
   "source": [
    "def gradient_descent(weights, bias, x, y, LR, report=False):\n",
    "    \"\"\"\n",
    "    Performs gradient descent to optimize initial starting weight and biases\n",
    "    \n",
    "    Input: x = training set containing input features\n",
    "           y = training set containing expected classification\n",
    "           weights = n-d vector/numpy_array\n",
    "           bias = scalar\n",
    "           LR = scalar, learning rate\n",
    "    Returns: tuple of 2 elements, (weights, bias)\n",
    "    \"\"\"\n",
    "    \n",
    "    for i in range(n_steps):\n",
    "        #for each row of features, we generate a corresponding number by multiplying each weight by feature value\n",
    "        predicted_vals = np.dot(x, weights.T) + bias\n",
    "        \n",
    "        #for each feature value, we predict its class probability utilizing the sigmoid function\n",
    "        predicted_probs = sigmoid(predicted_vals)\n",
    "\n",
    "        if report:\n",
    "            print(\"On step \" + str(i) + \"th step, loss equals \" + str(cross_entropy(predicted_probs, y)))\n",
    "        \n",
    "        #calculated derivatives\n",
    "        derivs = calc_dir(x, bias, predicted_probs, y)\n",
    "        dW = derivs[0]\n",
    "        dB = derivs[1]\n",
    "        \n",
    "        #\"descent\" down\n",
    "        weights -= LR * dW\n",
    "        bias -= LR * dB\n",
    "        \n",
    "    return [weights, bias]"
   ]
  },
  {
   "cell_type": "code",
   "execution_count": 298,
   "id": "af8a3e5e",
   "metadata": {},
   "outputs": [],
   "source": [
    "def train(x, y, report = False):\n",
    "    \"\"\"\n",
    "    Optimizes weights and biases given initial training set. Utilizes entire training set (must train-test-split beforehand)\n",
    "    \n",
    "    Input: x = model input of training dataset, 2darray containing m samples (entries) and n features\n",
    "           y = expected model output of training dataset, 1darray containing n classification results (0/1)\n",
    "\n",
    "    \"\"\"\n",
    "    global weights, bias\n",
    "    m, n = x.shape\n",
    "    \n",
    "    #we take n_iters random starting points\n",
    "    for _ in range(n_iters):\n",
    "        #random starting points: vector/np_array of size n\n",
    "        weights = np.random.rand(n)\n",
    "        #random starting points: random bias\n",
    "        bias = np.random.rand(1)[0]\n",
    "\n",
    "        res = gradient_descent(weights, bias, x, y, LR, report)\n",
    "        weights = res[0]\n",
    "        bias = res[1]\n",
    "        "
   ]
  },
  {
   "cell_type": "code",
   "execution_count": 299,
   "id": "c9a32efd",
   "metadata": {},
   "outputs": [],
   "source": [
    "def predict_probs(x):\n",
    "    \"\"\"\n",
    "    Utilizes pre-optimized weights and biases to outputs class probability given m entries of nd-vector of features\n",
    "    \n",
    "    Input: m by n matrix of feature\n",
    "    Output: m-d vector of class probabilities for each entry\n",
    "    \"\"\"\n",
    "    predicted_vals = np.dot(x, weights.T) + bias\n",
    "    predicted_probs = sigmoid(predicted_vals)\n",
    "    \n",
    "    return predicted_probs\n",
    "\n",
    "\n",
    "def predict(x):\n",
    "    \"\"\"\n",
    "    Utilizes pre-optimized weights and biases to outputs class given m entries of nd-vector of features\n",
    "    \n",
    "    Input: m by n matrix of feature\n",
    "    Output: m-d vector of 0/1 class for each entry\n",
    "    \"\"\"\n",
    "\n",
    "    x = predict_probs(x)\n",
    "\n",
    "    x = [0 if i < 0.5 else 1 for i in x]\n",
    "    return x"
   ]
  },
  {
   "cell_type": "code",
   "execution_count": 300,
   "id": "b0ac56d9",
   "metadata": {},
   "outputs": [],
   "source": [
    "data = load_breast_cancer()\n",
    "x, y = data.data, data.target\n",
    "x_train, x_test, y_train, y_test = train_test_split(x, y, test_size=0.2, random_state=69)"
   ]
  },
  {
   "cell_type": "code",
   "execution_count": 301,
   "id": "21d89014",
   "metadata": {},
   "outputs": [
    {
     "name": "stderr",
     "output_type": "stream",
     "text": [
      "<ipython-input-296-874f6cf9979a>:12: RuntimeWarning: overflow encountered in exp\n",
      "  return 1.0/(1.0 + np.exp(-x))\n"
     ]
    },
    {
     "name": "stdout",
     "output_type": "stream",
     "text": [
      "114\n",
      "(114,)\n",
      "0.9210526315789473\n",
      "CPU times: user 9.97 s, sys: 23.2 s, total: 33.2 s\n",
      "Wall time: 6.33 s\n"
     ]
    }
   ],
   "source": [
    "%%time\n",
    "\n",
    "train(x_train, y_train)\n",
    "\n",
    "y_pred = predict(x_test)\n",
    "print(len(y_pred))\n",
    "print(y_test.shape)\n",
    "print(accuracy_score(y_test, y_pred))"
   ]
  },
  {
   "cell_type": "code",
   "execution_count": 302,
   "id": "c5669093",
   "metadata": {},
   "outputs": [
    {
     "data": {
      "text/plain": [
       "<AxesSubplot:>"
      ]
     },
     "execution_count": 302,
     "metadata": {},
     "output_type": "execute_result"
    },
    {
     "data": {
      "image/png": "[encoded data removed]",
      "text/plain": [
       "<Figure size 432x288 with 2 Axes>"
      ]
     },
     "metadata": {
      "needs_background": "light"
     },
     "output_type": "display_data"
    }
   ],
   "source": [
    "array = confusion_matrix(y_test, y_pred)\n",
    "df_cm = pd.DataFrame(array, index = ['True Yes', 'True No'],\n",
    "                  columns = ['Predicted Yes', 'Predicted No'])\n",
    "\n",
    "plt.figure()\n",
    "sn.heatmap(df_cm, annot=True)"
   ]
  },
  {
   "cell_type": "code",
   "execution_count": 303,
   "id": "5fcf2ceb",
   "metadata": {},
   "outputs": [
    {
     "name": "stdout",
     "output_type": "stream",
     "text": [
      "0\n"
     ]
    }
   ],
   "source": [
    "print(test)"
   ]
  },
  {
   "cell_type": "code",
   "execution_count": 304,
   "id": "e5e9eba1",
   "metadata": {},
   "outputs": [
    {
     "name": "stdout",
     "output_type": "stream",
     "text": [
      "1.0\n"
     ]
    }
   ],
   "source": [
    "print( 1.0/(1.0 + np.exp(-97861.91811394185)))"
   ]
  },
  {
   "cell_type": "code",
   "execution_count": 305,
   "id": "07af1494",
   "metadata": {},
   "outputs": [
    {
     "name": "stdout",
     "output_type": "stream",
     "text": [
      "0.0\n"
     ]
    }
   ],
   "source": [
    "print(np.exp(-1000.91811394185))"
   ]
  },
  {
   "cell_type": "code",
   "execution_count": 306,
   "id": "e5adfd80",
   "metadata": {},
   "outputs": [
    {
     "name": "stdout",
     "output_type": "stream",
     "text": [
      "[ 1.33680112e+01  1.82310869e+01  7.67189430e+01  2.15161384e+01\n",
      "  5.71030329e-01  6.27937471e-01 -4.16768673e-02 -5.91260239e-02\n",
      "  5.77755167e-01  7.15811249e-01  7.16404190e-01  1.96579642e+00\n",
      " -9.53648456e-01 -3.98923227e+01  1.22873431e-01  8.15008491e-01\n",
      "  1.04418744e-01  4.26012694e-01  9.76907357e-01  4.99809339e-01\n",
      "  1.48358512e+01  2.31395564e+01  7.80994691e+01 -3.66477027e+01\n",
      "  9.42200858e-01  1.91590230e-01 -1.53367077e-01  7.58421962e-01\n",
      "  4.48068387e-01  3.56161320e-01]\n"
     ]
    }
   ],
   "source": [
    "print(weights)"
   ]
  },
  {
   "cell_type": "code",
   "execution_count": 307,
   "id": "d9dffffb",
   "metadata": {},
   "outputs": [
    {
     "data": {
      "text/plain": [
       "1.9808801287972688"
      ]
     },
     "execution_count": 307,
     "metadata": {},
     "output_type": "execute_result"
    }
   ],
   "source": [
    "bias"
   ]
  },
  {
   "cell_type": "code",
   "execution_count": null,
   "id": "60c3d813",
   "metadata": {},
   "outputs": [],
   "source": []
  }
 ],
 "metadata": {
  "kernelspec": {
   "display_name": "Python 3",
   "language": "python",
   "name": "python3"
  },
  "language_info": {
   "codemirror_mode": {
    "name": "ipython",
    "version": 3
   },
   "file_extension": ".py",
   "mimetype": "text/x-python",
   "name": "python",
   "nbconvert_exporter": "python",
   "pygments_lexer": "ipython3",
   "version": "3.8.8"
  }
 },
 "nbformat": 4,
 "nbformat_minor": 5
}
