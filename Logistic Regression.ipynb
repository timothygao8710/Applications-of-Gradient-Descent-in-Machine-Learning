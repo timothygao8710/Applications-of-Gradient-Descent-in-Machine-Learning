{
 "cells": [
  {
   "cell_type": "code",
   "execution_count": 111,
   "id": "b2e2f691",
   "metadata": {},
   "outputs": [],
   "source": [
    "#error function: calculuate cross entropy\n",
    "#mean squared error is used for linear regression\n",
    "\n",
    "#weights: relative importances of features\n",
    "#bais: \"shift\"/location of the activation function\n",
    "#activiation function is sigmoid\n",
    "\n",
    "import numpy as np"
   ]
  },
  {
   "cell_type": "code",
   "execution_count": 112,
   "id": "e041858a",
   "metadata": {},
   "outputs": [],
   "source": [
    "#learning rate for gradient descent\n",
    "#explain why you needa hyperparameter tune this\n",
    "LR = 0.0015\n",
    "\n",
    "#number of random starting points to take\n",
    "n_iters = 100\n",
    "\n",
    "#number of steps to take in GD\n",
    "n_steps = 1000\n",
    "\n",
    "#feature inputs -> dotted weights, + bias -> y = sigmoid(x) -> find_loss(y)\n",
    "\n",
    "#we can write in terms of wegiths and biases (substitute into the find loss function)\n",
    "#feature inputs -> dotted weights, + bias -> y = sigmoid(x) -> find_loss(y) -> \n",
    "\n",
    "weights, biases = 0, 0"
   ]
  },
  {
   "cell_type": "code",
   "execution_count": 113,
   "id": "b0963b26",
   "metadata": {},
   "outputs": [],
   "source": [
    "#Tanh, ReLU (less computation time)\n",
    "#Why choose sigmoid?\n",
    "\n",
    "#Activation function: \n",
    "def sigmoid(x):\n",
    "    \"\"\"\n",
    "    Computes sigmoid function to calculate probability based on single-value output of logistic regression\n",
    "    and predictions. \n",
    "    Input: Computed prediction value\n",
    "    Returns: scalar probability between (0, 1)\n",
    "    \"\"\"\n",
    "    return 1.0/(1.0 + np.exp(-x))\n",
    "\n",
    "def cross_entropy(predictions, targets, epsilon = 1e-14):\n",
    "    \"\"\"\n",
    "    Computes cross entropy between predicted probabilities and actual 0/1 classifications. \n",
    "    Input: predictions vector of predicted classes' probabilities\n",
    "           targets vector of actual 0/1 classes\n",
    "    Returns: scalar representing loss\n",
    "    \"\"\"\n",
    "    n = predictions.shape[0]\n",
    "    return -(1/n) * np.sum(targets*np.log(predictions + epsilon) + (1-targets)*np.log(1 - predictions + epsilon))\n",
    "\n",
    "#E'(weights, biases)\n",
    "#Other activation function and their derivatives given here: https://towardsdatascience.com/activation-functions-neural-networks-1cbd9f8d91d6\n",
    "def calc_dir(x, bias, predicted, actual):\n",
    "    \"\"\"\n",
    "    Computes cross entropy between targets (encoded as one-hot vectors)\n",
    "    and predictions. \n",
    "    Input: weights = coefficients for features\n",
    "           bias = single-value added to prediction output     \n",
    "           predicted = predicted 0/1 classes for classification output\n",
    "           actual = actual 0/1 classes for classification output\n",
    "    Returns: tuple of 2 elements\n",
    "             gradient descent vector <dw, db> = vector of greatest descent for weights and biases, respectively\n",
    "    \"\"\"\n",
    "    N = len(weights)\n",
    "\n",
    "    dW = (1/N) * 2 * np.dot(x.T, predicted - actual)\n",
    "    dB = (1/N) * 2 * np.sum(predicted - actual)\n",
    "\n",
    "    return [dW, dB]"
   ]
  },
  {
   "cell_type": "code",
   "execution_count": 114,
   "id": "f33caf65",
   "metadata": {},
   "outputs": [],
   "source": [
    "def gradient_descent(weights, bias, x, y, LR, report=False):\n",
    "    \"\"\"\n",
    "    Performs gradient descent to optimize initial starting weight and biases\n",
    "    \n",
    "    Input: x = training set containing input features\n",
    "           y = training set containing expected classification\n",
    "           weights = n-d vector/numpy_array\n",
    "           bias = scalar\n",
    "           LR = scalar, learning rate\n",
    "    Returns: tuple of 2 elements, (weights, bias)\n",
    "    \"\"\"\n",
    "    \n",
    "    for i in range(n_steps):\n",
    "        #for each row of features, we generate a corresponding number by multiplying each weight by feature value\n",
    "        predicted_vals = np.dot(x, weights.T) + bias\n",
    "        \n",
    "        #for each feature value, we predict its class probability utilizing the sigmoid function\n",
    "        predicted_probs = sigmoid(predicted_vals)\n",
    "\n",
    "        if report:\n",
    "            print(\"On step \" + str(i) + \"th step, loss equals \" + str(cross_entropy(predicted_probs, y)))\n",
    "        \n",
    "        #calculated derivatives\n",
    "        derivs = calc_dir(x, bias, predicted_probs, y)\n",
    "        dW = derivs[0]\n",
    "        dB = derivs[1]\n",
    "        \n",
    "        #\"descent\" down\n",
    "        weights -= LR * dW\n",
    "        bias -= LR * dB\n",
    "        \n",
    "    return [weights, bias]"
   ]
  },
  {
   "cell_type": "code",
   "execution_count": 194,
   "id": "086d1cb2",
   "metadata": {},
   "outputs": [],
   "source": [
    "def train(x, y, report = False):\n",
    "    \"\"\"\n",
    "    Optimizes weights and biases given initial training set. Utilizes entire training set (must train-test-split beforehand)\n",
    "    \n",
    "    Input: x = model input of training dataset, 2darray containing m samples (entries) and n features\n",
    "           y = expected model output of training dataset, 1darray containing n classification results (0/1)\n",
    "\n",
    "    \"\"\"\n",
    "    global weights, bias\n",
    "    m, n = x.shape\n",
    "    \n",
    "    #we take n_iters random starting points\n",
    "    for _ in range(n_iters):\n",
    "        #random starting points: vector/np_array of size n\n",
    "        weights = np.random.rand(n) * 10\n",
    "        #random starting points: random bias\n",
    "        bias = np.random.rand(1)[0]\n",
    "\n",
    "        res = gradient_descent(weights, bias, x, y, LR, report)\n",
    "        weights = res[0]\n",
    "        bias = res[1]\n",
    "        "
   ]
  },
  {
   "cell_type": "code",
   "execution_count": 195,
   "id": "5a6f2cb2",
   "metadata": {},
   "outputs": [],
   "source": [
    "def predict_probs(x):\n",
    "    \"\"\"\n",
    "    Utilizes pre-optimized weights and biases to outputs class probability given m entries of nd-vector of features\n",
    "    \n",
    "    Input: m by n matrix of feature\n",
    "    Output: m-d vector of class probabilities for each entry\n",
    "    \"\"\"\n",
    "    predicted_vals = np.dot(x, weights.T) + bias\n",
    "    predicted_probs = sigmoid(predicted_vals)\n",
    "    \n",
    "    return predicted_probs\n",
    "\n",
    "\n",
    "def predict(x):\n",
    "    \"\"\"\n",
    "    Utilizes pre-optimized weights and biases to outputs class given m entries of nd-vector of features\n",
    "    \n",
    "    Input: m by n matrix of feature\n",
    "    Output: m-d vector of 0/1 class for each entry\n",
    "    \"\"\"\n",
    "\n",
    "    x = predict_probs(x)\n",
    "\n",
    "    x = [0 if i < 0.5 else 1 for i in x]\n",
    "    return x"
   ]
  },
  {
   "cell_type": "code",
   "execution_count": 196,
   "id": "deca0329",
   "metadata": {},
   "outputs": [
    {
     "name": "stderr",
     "output_type": "stream",
     "text": [
      "<ipython-input-113-874f6cf9979a>:12: RuntimeWarning: overflow encountered in exp\n",
      "  return 1.0/(1.0 + np.exp(-x))\n"
     ]
    },
    {
     "name": "stdout",
     "output_type": "stream",
     "text": [
      "114\n",
      "(114,)\n",
      "0.9210526315789473\n"
     ]
    }
   ],
   "source": [
    "from sklearn.datasets import load_breast_cancer\n",
    "from sklearn.model_selection import train_test_split\n",
    "from sklearn.metrics import confusion_matrix, accuracy_score, plot_confusion_matrix\n",
    "\n",
    "data = load_breast_cancer()\n",
    "x, y = data.data, data.target\n",
    "x_train, x_test, y_train, y_test = train_test_split(x, y, test_size=0.2, random_state=69)\n",
    "\n",
    "train(x_train, y_train)\n",
    "\n",
    "y_pred = predict(x_test)\n",
    "print(len(y_pred))\n",
    "print(y_test.shape)\n",
    "print(accuracy_score(y_test, y_pred))"
   ]
  },
  {
   "cell_type": "code",
   "execution_count": 198,
   "id": "d137ddfd",
   "metadata": {},
   "outputs": [
    {
     "data": {
      "text/plain": [
       "<AxesSubplot:>"
      ]
     },
     "execution_count": 198,
     "metadata": {},
     "output_type": "execute_result"
    },
    {
     "data": {
      "image/png": "[encoded data removed]",
      "text/plain": [
       "<Figure size 432x288 with 2 Axes>"
      ]
     },
     "metadata": {
      "needs_background": "light"
     },
     "output_type": "display_data"
    }
   ],
   "source": [
    "import seaborn as sn\n",
    "import pandas as pd\n",
    "import matplotlib.pyplot as plt\n",
    "\n",
    "array = confusion_matrix(y_test, y_pred)\n",
    "df_cm = pd.DataFrame(array, index = ['True Yes', 'True No'],\n",
    "                  columns = ['Predicted Yes', 'Predicted No'])\n",
    "\n",
    "plt.figure()\n",
    "sn.heatmap(df_cm, annot=True)"
   ]
  },
  {
   "cell_type": "code",
   "execution_count": null,
   "id": "874232ae",
   "metadata": {},
   "outputs": [],
   "source": []
  }
 ],
 "metadata": {
  "kernelspec": {
   "display_name": "Python 3",
   "language": "python",
   "name": "python3"
  },
  "language_info": {
   "codemirror_mode": {
    "name": "ipython",
    "version": 3
   },
   "file_extension": ".py",
   "mimetype": "text/x-python",
   "name": "python",
   "nbconvert_exporter": "python",
   "pygments_lexer": "ipython3",
   "version": "3.8.8"
  }
 },
 "nbformat": 4,
 "nbformat_minor": 5
}
